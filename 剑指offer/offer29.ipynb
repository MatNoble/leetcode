{
 "metadata": {
  "language_info": {
   "codemirror_mode": {
    "name": "ipython",
    "version": 3
   },
   "file_extension": ".py",
   "mimetype": "text/x-python",
   "name": "python",
   "nbconvert_exporter": "python",
   "pygments_lexer": "ipython3",
   "version": "3.8.5-final"
  },
  "orig_nbformat": 2,
  "kernelspec": {
   "name": "python3",
   "display_name": "Python 3.8.5 64-bit",
   "metadata": {
    "interpreter": {
     "hash": "31f2aee4e71d21fbe5cf8b01ff0e069b9275f58929596ceb00d14d90e3e16cd6"
    }
   }
  }
 },
 "nbformat": 4,
 "nbformat_minor": 2,
 "cells": [
  {
   "source": [
    "给你一个 `m` 行 `n` 列的矩阵 `matrix` ，请按照 **顺时针螺旋顺序** ，返回矩阵中的所有元素。\n",
    "\n",
    "**示例 1：**  \n",
    "<img src=\"https://cdn.jsdelivr.net/gh/MatNoble/Images/20210327125439.png\"/>  \n",
    "输入：`matrix = [[1,2,3],[4,5,6],[7,8,9]]`  \n",
    "输出：`[1,2,3,6,9,8,7,4,5]`\n",
    "\n",
    "**示例 2：**  \n",
    "<img src=\"https://cdn.jsdelivr.net/gh/MatNoble/Images/20210327125458.png\"/>  \n",
    "输入：`matrix = [[1,2,3,4],[5,6,7,8],[9,10,11,12]]`  \n",
    "输出：`[1,2,3,4,8,12,11,10,9,5,6,7]`\n",
    "\n",
    "**限制：**  \n",
    "- $0 \\leq matrix.length \\leq 100$\n",
    "- $0 \\leq matrix[i].length \\leq 100$\n",
    "\n",
    "来源：力扣（LeetCode）  \n",
    "链接：https://leetcode-cn.com/problems/spiral-matrix  \n",
    "著作权归领扣网络所有。商业转载请联系官方授权，非商业转载请注明出处。"
   ],
   "cell_type": "markdown",
   "metadata": {}
  },
  {
   "source": [
    "### **层**遍历\n",
    "每一层都按如下方式遍历  \n",
    "<img src=\"https://cdn.jsdelivr.net/gh/MatNoble/Images/20210327130635.png\" width=600/>"
   ],
   "cell_type": "markdown",
   "metadata": {}
  },
  {
   "cell_type": "code",
   "execution_count": 1,
   "metadata": {},
   "outputs": [],
   "source": [
    "from typing import List \n",
    "class Solution:\n",
    "    def __init__(self):\n",
    "        self.res = []\n",
    "\n",
    "    def level(self, matrix, m, n, k):\n",
    "        \"\"\"k: 记录层数\"\"\"\n",
    "        # 上\n",
    "        self.res += [matrix[k][j+k] for j in range(m-1)]\n",
    "        # 右\n",
    "        self.res += [matrix[i+k][m-1+k] for i in range(n-1)]\n",
    "        # 下\n",
    "        self.res += [matrix[n-1+k][j-k] for j in range(-1, -m ,-1)]\n",
    "        # 右\n",
    "        self.res += [matrix[i-k][k] for i in range(-1, -n, -1)]\n",
    "\n",
    "    def spiralOrder(self, matrix: List[List[int]]) -> List[int]:\n",
    "        # 行列\n",
    "        if len(matrix) < 1: return []\n",
    "        n, m = len(matrix), len(matrix[0])\n",
    "        # k: 层数\n",
    "        k = 0\n",
    "        while m > 1 and n > 1:\n",
    "            self.level(matrix, m, n, k)\n",
    "            # 更新索引\n",
    "            k += 1\n",
    "            m -= 2\n",
    "            n -= 2\n",
    "        if n == 1: # 剩余一列\n",
    "            self.res += [matrix[k][j+k] for j in range(m)]\n",
    "        elif m == 1: # 剩余一行\n",
    "            self.res += [matrix[i+k][m-1+k] for i in range(n)]\n",
    "        return self.res"
   ]
  },
  {
   "cell_type": "code",
   "execution_count": 3,
   "metadata": {},
   "outputs": [],
   "source": [
    "mat = Solution()"
   ]
  },
  {
   "cell_type": "code",
   "execution_count": 4,
   "metadata": {},
   "outputs": [
    {
     "output_type": "execute_result",
     "data": {
      "text/plain": [
       "[1, 2, 3, 6, 9, 8, 7, 4, 5]"
      ]
     },
     "metadata": {},
     "execution_count": 4
    }
   ],
   "source": [
    "# 测试\n",
    "matrix = [[1,2,3],[4,5,6],[7,8,9]]\n",
    "mat.spiralOrder(matrix)"
   ]
  },
  {
   "cell_type": "code",
   "execution_count": 5,
   "metadata": {},
   "outputs": [
    {
     "output_type": "execute_result",
     "data": {
      "text/plain": [
       "[1, 2, 3, 6, 9, 8, 7, 4, 5, 1, 2, 3, 4, 8, 12, 11, 10, 9, 5, 6, 7]"
      ]
     },
     "metadata": {},
     "execution_count": 5
    }
   ],
   "source": [
    "matrix = [[1,2,3,4],[5,6,7,8],[9,10,11,12]]\n",
    "mat.spiralOrder(matrix)"
   ]
  }
 ]
}