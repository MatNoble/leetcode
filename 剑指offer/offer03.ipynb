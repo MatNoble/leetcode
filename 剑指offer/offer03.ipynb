{
 "metadata": {
  "language_info": {
   "codemirror_mode": {
    "name": "ipython",
    "version": 3
   },
   "file_extension": ".py",
   "mimetype": "text/x-python",
   "name": "python",
   "nbconvert_exporter": "python",
   "pygments_lexer": "ipython3",
   "version": "3.8.5-final"
  },
  "orig_nbformat": 2,
  "kernelspec": {
   "name": "python3",
   "display_name": "Python 3.8.5 64-bit",
   "metadata": {
    "interpreter": {
     "hash": "31f2aee4e71d21fbe5cf8b01ff0e069b9275f58929596ceb00d14d90e3e16cd6"
    }
   }
  }
 },
 "nbformat": 4,
 "nbformat_minor": 2,
 "cells": [
  {
   "source": [
    "找出数组中重复的数字。\n",
    "\n",
    "在一个长度为 $n$ 的数组 `nums` 里的所有数字都在 $0～n-1$ 的范围内。数组中某些数字是重复的，但不知道有几个数字重复了，也不知道每个数字重复了几次。请找出数组中任意一个重复的数字。\n",
    "\n",
    "示例 1：  \n",
    "输入：$[2, 3, 1, 0, 2, 5, 3]$  \n",
    "输出：$2$ 或 $3$ \n",
    " \n",
    "限制：  \n",
    "$2 \\leq n \\leq 100000$\n",
    "\n",
    "来源：力扣（LeetCode）  \n",
    "链接：https://leetcode-cn.com/problems/shu-zu-zhong-zhong-fu-de-shu-zi-lcof  \n",
    "著作权归领扣网络所有。商业转载请联系官方授权，非商业转载请注明出处。"
   ],
   "cell_type": "markdown",
   "metadata": {}
  },
  {
   "source": [
    "### 计数法\n",
    "\n",
    "借助 [Counter 模块](https://matnoble.me/tech/programming/python/collections/#counter) `计数`，返回`计数`最多的数"
   ],
   "cell_type": "markdown",
   "metadata": {}
  },
  {
   "cell_type": "code",
   "execution_count": 1,
   "metadata": {},
   "outputs": [],
   "source": [
    "from collections import Counter \n",
    "class Solution:\n",
    "    def findRepeatNumber(self, nums):\n",
    "        # 计数法\n",
    "        return Counter(nums).most_common(1)[0][0]"
   ]
  },
  {
   "cell_type": "code",
   "execution_count": 2,
   "metadata": {},
   "outputs": [
    {
     "output_type": "execute_result",
     "data": {
      "text/plain": [
       "2"
      ]
     },
     "metadata": {},
     "execution_count": 2
    }
   ],
   "source": [
    "# 测试\n",
    "nums = [2, 3, 1, 0, 2, 5, 3]\n",
    "mat = Solution()\n",
    "mat.findRepeatNumber(nums)"
   ]
  },
  {
   "source": [
    "### 哈希表\n",
    "\n",
    "用`哈希表`查找元素，时间复杂度$O(1)$"
   ],
   "cell_type": "markdown",
   "metadata": {}
  },
  {
   "cell_type": "code",
   "execution_count": 3,
   "metadata": {},
   "outputs": [],
   "source": [
    "class Solution:\n",
    "    def findRepeatNumber(self, nums):\n",
    "        # 哈希表\n",
    "        d = set()\n",
    "        for num in nums:\n",
    "            if num in d: return num\n",
    "            d.add(num)"
   ]
  },
  {
   "cell_type": "code",
   "execution_count": 4,
   "metadata": {},
   "outputs": [
    {
     "output_type": "execute_result",
     "data": {
      "text/plain": [
       "2"
      ]
     },
     "metadata": {},
     "execution_count": 4
    }
   ],
   "source": [
    "# 测试\n",
    "nums = [2, 3, 1, 0, 2, 5, 3]\n",
    "mat = Solution()\n",
    "mat.findRepeatNumber(nums)"
   ]
  },
  {
   "source": [
    "### 原地置换 环\n",
    "\n",
    "<img src=\"https://cdn.jsdelivr.net/gh/MatNoble/Images/20210327105657.png\" width=400/>"
   ],
   "cell_type": "markdown",
   "metadata": {}
  },
  {
   "cell_type": "code",
   "execution_count": 5,
   "metadata": {},
   "outputs": [],
   "source": [
    "class Solution:\n",
    "    def findRepeatNumber(self, nums):\n",
    "        # 原地置换  环\n",
    "        i = 0\n",
    "        while i < len(nums):\n",
    "            if nums[i] == i: \n",
    "                i += 1\n",
    "                continue\n",
    "            if nums[nums[i]] == nums[i]: \n",
    "                return nums[i] # 返回环入口\n",
    "            # swap i <- -> j\n",
    "            j = nums[i]\n",
    "            nums[i], nums[j] = nums[j], nums[i]"
   ]
  },
  {
   "cell_type": "code",
   "execution_count": 6,
   "metadata": {},
   "outputs": [
    {
     "output_type": "execute_result",
     "data": {
      "text/plain": [
       "2"
      ]
     },
     "metadata": {},
     "execution_count": 6
    }
   ],
   "source": [
    "# 测试\n",
    "nums = [2, 3, 1, 0, 2, 5, 3]\n",
    "mat = Solution()\n",
    "mat.findRepeatNumber(nums)"
   ]
  }
 ]
}