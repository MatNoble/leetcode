{
 "metadata": {
  "language_info": {
   "codemirror_mode": {
    "name": "ipython",
    "version": 3
   },
   "file_extension": ".py",
   "mimetype": "text/x-python",
   "name": "python",
   "nbconvert_exporter": "python",
   "pygments_lexer": "ipython3",
   "version": "3.8.5-final"
  },
  "orig_nbformat": 2,
  "kernelspec": {
   "name": "python3",
   "display_name": "Python 3.8.5 64-bit",
   "metadata": {
    "interpreter": {
     "hash": "31f2aee4e71d21fbe5cf8b01ff0e069b9275f58929596ceb00d14d90e3e16cd6"
    }
   }
  }
 },
 "nbformat": 4,
 "nbformat_minor": 2,
 "cells": [
  {
   "source": [
    "**剑指 Offer 58 - II. 左旋转字符串**\n",
    "\n",
    "字符串的左旋转操作是把字符串前面的若干个字符转移到字符串的尾部。请定义一个函数实现字符串左旋转操作的功能。比如，输入字符串 `\"abcdefg\"` 和数字 `2`，该函数将返回左旋转两位得到的结果 `\"cdefgab\"`\n",
    "\n",
    "**示例 1：**  \n",
    "输入: `s = \"abcdefg\", k = 2`  \n",
    "输出: `\"cdefgab\"`\n",
    "\n",
    "**示例 2：**  \n",
    "输入: `s = \"lrloseumgh\", k = 6`  \n",
    "输出: `\"umghlrlose\"`\n",
    "\n",
    "**限制：**  \n",
    "$1 \\leq k < s.length \\leq 10000$\n",
    "\n",
    "来源：力扣（LeetCode）  \n",
    "链接：https://leetcode-cn.com/problems/zuo-xuan-zhuan-zi-fu-chuan-lcof  \n",
    "著作权归领扣网络所有。商业转载请联系官方授权，非商业转载请注明出处。"
   ],
   "cell_type": "markdown",
   "metadata": {}
  },
  {
   "source": [
    "### Python 切片\n",
    "\n",
    "[Python 高级特性](https://github.com/MatNoble/leetcode/issues/1#issuecomment-755976025)"
   ],
   "cell_type": "markdown",
   "metadata": {}
  },
  {
   "cell_type": "code",
   "execution_count": 1,
   "metadata": {},
   "outputs": [],
   "source": [
    "class Solution:\n",
    "    def reverseLeftWords(self, s: str, k: int) -> str:\n",
    "        # 切片\n",
    "        return s[k:] + s[:k]"
   ]
  },
  {
   "cell_type": "code",
   "execution_count": 2,
   "metadata": {},
   "outputs": [],
   "source": [
    "mat = Solution()"
   ]
  },
  {
   "cell_type": "code",
   "execution_count": 3,
   "metadata": {},
   "outputs": [
    {
     "output_type": "execute_result",
     "data": {
      "text/plain": [
       "'cdefgab'"
      ]
     },
     "metadata": {},
     "execution_count": 3
    }
   ],
   "source": [
    "# 测试\n",
    "s = \"abcdefg\"\n",
    "k = 2\n",
    "mat.reverseLeftWords(s, k)"
   ]
  },
  {
   "cell_type": "code",
   "execution_count": 4,
   "metadata": {},
   "outputs": [
    {
     "output_type": "execute_result",
     "data": {
      "text/plain": [
       "'umghlrlose'"
      ]
     },
     "metadata": {},
     "execution_count": 4
    }
   ],
   "source": [
    "s = \"lrloseumgh\"\n",
    "k = 6\n",
    "mat.reverseLeftWords(s, k)"
   ]
  },
  {
   "source": [
    "### 旋转字符串\n"
   ],
   "cell_type": "markdown",
   "metadata": {}
  },
  {
   "cell_type": "code",
   "execution_count": 6,
   "metadata": {},
   "outputs": [],
   "source": [
    "class Solution:\n",
    "    def reverseLeftWords(self, s: str, k: int) -> str:\n",
    "        def reverse(s):\n",
    "            \"\"\"旋转字符串\"\"\"\n",
    "            s = list(s) # str --> list\n",
    "            i, j = 0, len(s)-1\n",
    "            while i < j: # 双指针交换\n",
    "                s[i], s[j] = s[j], s[i]\n",
    "                i += 1\n",
    "                j -= 1\n",
    "            return \"\".join(s)\n",
    "        s = reverse(s)\n",
    "        s1 = reverse(s[:len(s)-k])\n",
    "        s2 = reverse(s[-k:])\n",
    "        return s1+s2"
   ]
  },
  {
   "cell_type": "code",
   "execution_count": 7,
   "metadata": {},
   "outputs": [],
   "source": [
    "mat = Solution()"
   ]
  },
  {
   "cell_type": "code",
   "execution_count": 8,
   "metadata": {},
   "outputs": [
    {
     "output_type": "execute_result",
     "data": {
      "text/plain": [
       "'cdefgab'"
      ]
     },
     "metadata": {},
     "execution_count": 8
    }
   ],
   "source": [
    "# 测试\n",
    "s = \"abcdefg\"\n",
    "k = 2\n",
    "mat.reverseLeftWords(s, k)"
   ]
  },
  {
   "cell_type": "code",
   "execution_count": 9,
   "metadata": {},
   "outputs": [
    {
     "output_type": "execute_result",
     "data": {
      "text/plain": [
       "'umghlrlose'"
      ]
     },
     "metadata": {},
     "execution_count": 9
    }
   ],
   "source": [
    "s = \"lrloseumgh\"\n",
    "k = 6\n",
    "mat.reverseLeftWords(s, k)"
   ]
  }
 ]
}